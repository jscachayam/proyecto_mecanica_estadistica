{
 "cells": [
  {
   "cell_type": "markdown",
   "metadata": {},
   "source": [
    "# Análisis entrópico para procesamiento de lenguajes naturales\n",
    "\n",
    "## Programa para analizar los corpus "
   ]
  },
  {
   "cell_type": "markdown",
   "metadata": {},
   "source": [
    "### Primero cargamos las librerias necesarias:"
   ]
  },
  {
   "cell_type": "code",
   "execution_count": 322,
   "metadata": {},
   "outputs": [],
   "source": [
    "# -*- coding: utf-8 -*-\n",
    "import numpy as np\n",
    "import matplotlib.pyplot as plt\n",
    "import math\n",
    "import operator\n"
   ]
  },
  {
   "cell_type": "markdown",
   "metadata": {},
   "source": [
    "### Ahora cargamos a jupyter los corpus que se van utilizar:\n"
   ]
  },
  {
   "cell_type": "code",
   "execution_count": 323,
   "metadata": {},
   "outputs": [],
   "source": [
    "\n",
    "#cien años de soledad\n",
    "archivo1 = open(\"cien_annos_soledad.txt\",encoding=\"utf8\",mode='r')\n",
    "texto1 = archivo1.read()\n",
    "#crimen y castigo\n",
    "archivo2 = open(\"crimenycastigo.txt\",mode='r')\n",
    "texto2 = archivo2.read()\n",
    "#el retrato de dorian grey\n",
    "archivo3 = open(\"retrato.txt\",mode='r')\n",
    "texto3 = archivo3.read()\n",
    "#el quijote\n",
    "archivo4 = open(\"el_quijote.txt\",encoding=\"utf8\",mode='r')\n",
    "texto4 = archivo4.read()\n",
    "#la isla del tesoro\n",
    "archivo5 = open(\"isladeltesoro.txt\",mode='r')\n",
    "texto5 = archivo5.read()\n",
    "# sentido y sensibilidad\n",
    "archivo6 = open(\"sentidosensibilidad.es\",encoding=\"utf8\",mode='r')\n",
    "texto6 = archivo6.read()\n",
    "\n",
    "textoprueba= \"\"\"\"Hola, hola hola mundo. Esto es una cadena, se supone que debe tener varias palabras pues \n",
    "vamos a realizar un conteo de frecuencia de las mismas usando el lenguaje de programación Python. \n",
    "Ya no sé qué escribir pero sigo escribiendo para que poco a poco la cadena sea más larga y el \n",
    "ejercicio de programación sea demostrable. Creo que con todo esto que he escrito es suficiente\"\"\"\n",
    "\n",
    "totaltext= texto1 + texto2 + texto3 + texto4 + texto5 + texto6\n"
   ]
  },
  {
   "cell_type": "markdown",
   "metadata": {},
   "source": [
    "### Ahora cargamos los diccionarios y los unificamos:\n"
   ]
  },
  {
   "cell_type": "code",
   "execution_count": 324,
   "metadata": {},
   "outputs": [],
   "source": [
    "#a\n",
    "archivoa = open(\"Diccionarios/a.txt\",encoding=\"utf8\",mode='r')\n",
    "dicca = archivoa.read()\n",
    "#b\n",
    "archivob = open(\"Diccionarios/b.txt\",encoding=\"utf8\",mode='r')\n",
    "diccb = archivob.read()\n",
    "#c\n",
    "archivoc = open(\"Diccionarios/c.txt\",encoding=\"utf8\",mode='r')\n",
    "diccc = archivoc.read()\n",
    "#d\n",
    "archivod = open(\"Diccionarios/d.txt\",encoding=\"utf8\",mode='r')\n",
    "diccd = archivod.read()\n",
    "#e\n",
    "archivoe = open(\"Diccionarios/e.txt\",encoding=\"utf8\",mode='r')\n",
    "dicce = archivoe.read()\n",
    "#f\n",
    "archivof = open(\"Diccionarios/f.txt\",encoding=\"utf8\",mode='r')\n",
    "diccf = archivof.read()\n",
    "#g\n",
    "archivog = open(\"Diccionarios/g.txt\",encoding=\"utf8\",mode='r')\n",
    "diccg = archivog.read()\n",
    "#h\n",
    "archivoh = open(\"Diccionarios/h.txt\",encoding=\"utf8\",mode='r')\n",
    "dicch = archivoh.read()\n",
    "#i\n",
    "archivoi = open(\"Diccionarios/i.txt\",encoding=\"utf8\",mode='r')\n",
    "dicci = archivoi.read()\n",
    "#j\n",
    "archivoj = open(\"Diccionarios/j.txt\",encoding=\"utf8\",mode='r')\n",
    "diccj = archivoj.read()\n",
    "#k\n",
    "archivok = open(\"Diccionarios/k.txt\",encoding=\"utf8\",mode='r')\n",
    "dicck = archivok.read()\n",
    "#l\n",
    "archivol = open(\"Diccionarios/l.txt\",encoding=\"utf8\",mode='r')\n",
    "diccl = archivol.read()\n",
    "#m\n",
    "archivom = open(\"Diccionarios/m.txt\",encoding=\"utf8\",mode='r')\n",
    "diccm = archivom.read()\n",
    "#n\n",
    "archivon = open(\"Diccionarios/n.txt\",encoding=\"utf8\",mode='r')\n",
    "diccn = archivon.read()\n",
    "#ñ\n",
    "archivoñ = open(\"Diccionarios/ñ.txt\",encoding=\"utf8\",mode='r')\n",
    "diccñ = archivoñ.read()\n",
    "#o\n",
    "archivoo = open(\"Diccionarios/o.txt\",encoding=\"utf8\",mode='r')\n",
    "dicco = archivoo.read()\n",
    "#p\n",
    "archivop = open(\"Diccionarios/p.txt\",encoding=\"utf8\",mode='r')\n",
    "diccp = archivop.read()\n",
    "#q\n",
    "archivoq = open(\"Diccionarios/q.txt\",encoding=\"utf8\",mode='r')\n",
    "diccq = archivoq.read()\n",
    "#r\n",
    "archivor = open(\"Diccionarios/r.txt\",encoding=\"utf8\",mode='r')\n",
    "diccr = archivor.read()\n",
    "#s\n",
    "archivos = open(\"Diccionarios/s.txt\",encoding=\"utf8\",mode='r')\n",
    "diccs = archivos.read()\n",
    "#t\n",
    "archivot = open(\"Diccionarios/t.txt\",encoding=\"utf8\",mode='r')\n",
    "dicct = archivot.read()\n",
    "#u\n",
    "archivou = open(\"Diccionarios/u.txt\",encoding=\"utf8\",mode='r')\n",
    "diccu = archivou.read()\n",
    "#v\n",
    "archivov = open(\"Diccionarios/v.txt\",encoding=\"utf8\",mode='r')\n",
    "diccv = archivov.read()\n",
    "#w\n",
    "archivow = open(\"Diccionarios/w.txt\",encoding=\"utf8\",mode='r')\n",
    "diccw = archivow.read()\n",
    "#x\n",
    "archivox = open(\"Diccionarios/x.txt\",encoding=\"utf8\",mode='r')\n",
    "diccx = archivox.read()\n",
    "#y\n",
    "archivoy = open(\"Diccionarios/y.txt\",encoding=\"utf8\",mode='r')\n",
    "diccy = archivoy.read()\n",
    "#z\n",
    "archivoz = open(\"Diccionarios/z.txt\",encoding=\"utf8\",mode='r')\n",
    "diccz = archivoz.read()\n",
    "\n",
    "total_diccionario = dicca + diccb + diccc + diccd + dicce + diccf + diccg + dicch + dicci + diccj + dicck + diccl + diccm + diccn + diccñ + dicco + diccp + diccq + diccr + diccs + dicct + diccu + diccv + diccw + diccx + diccy + diccz"
   ]
  },
  {
   "cell_type": "markdown",
   "metadata": {},
   "source": [
    "### Creamos una funcion para preparar y limpiar el texto:\n",
    "\n",
    "Tomamos los libros convertidos en cadenas de texto, le quitamos caracteres que no son letras, convertimos todas las letras a minuscula y convertimos el texto en un arreglo"
   ]
  },
  {
   "cell_type": "code",
   "execution_count": 325,
   "metadata": {},
   "outputs": [],
   "source": [
    "def preptext(text):\n",
    "    texto=text\n",
    "    quitar = \"¡!¿?()[],=;_-—''̃'œâ°èäïëöü:~'́'«<>».‘–“ê&~—0123ô…î”456789*\\n!\\\"'\"\n",
    "    for caracter in quitar:\n",
    "        texto = texto.replace(caracter,\"\")\n",
    "    texto = texto.lower()\n",
    "    palabras = texto.split(\" \")\n",
    "    return palabras"
   ]
  },
  {
   "cell_type": "code",
   "execution_count": 326,
   "metadata": {},
   "outputs": [],
   "source": [
    "def prepdicc(text):\n",
    "    texto=text\n",
    "    quitar = \"¡!¿?()[],=;_-—''̃'œâ°èäïëöü:~'́'«<>».‘–“ê&~—0123ô…î”456789*!\\\"'\"\n",
    "    for caracter in quitar:\n",
    "        texto = texto.replace(caracter,\"\")\n",
    "    texto = texto.lower()\n",
    "    palabras = texto.split(\"\\n\")\n",
    "    return palabras"
   ]
  },
  {
   "cell_type": "markdown",
   "metadata": {},
   "source": [
    "### Limpiamos los diccionarios\n"
   ]
  },
  {
   "cell_type": "code",
   "execution_count": 327,
   "metadata": {},
   "outputs": [],
   "source": [
    "total_diccionario = prepdicc(total_diccionario)"
   ]
  },
  {
   "cell_type": "markdown",
   "metadata": {},
   "source": [
    "### Creamos una funcion que nos cuente las palabras para un texto dado y retorne un diccionario:\n",
    "\n",
    "Esta funcion nos retornara un diccionario en donde al buscar la palabra nos dirá cuantas veces aparece en el texto"
   ]
  },
  {
   "cell_type": "code",
   "execution_count": 328,
   "metadata": {},
   "outputs": [],
   "source": [
    "def diccionario(words):\n",
    "    palabras=words\n",
    "    diccionario_frecuencias = {}\n",
    "    for palabra in palabras:\n",
    "        if palabra in diccionario_frecuencias:\n",
    "            diccionario_frecuencias[palabra] += 1\n",
    "        else:\n",
    "            diccionario_frecuencias[palabra] = 1\n",
    "    return diccionario_frecuencias"
   ]
  },
  {
   "cell_type": "markdown",
   "metadata": {},
   "source": [
    "### Generamos los diccionarios para los corpus"
   ]
  },
  {
   "cell_type": "code",
   "execution_count": 329,
   "metadata": {},
   "outputs": [],
   "source": [
    "dicc1= diccionario(preptext(texto1))\n",
    "dicc2= diccionario(preptext(texto2))\n",
    "dicc3= diccionario(preptext(texto3))\n",
    "dicc4= diccionario(preptext(texto4))\n",
    "dicc5= diccionario(preptext(texto5))\n",
    "dicc6= diccionario(preptext(texto6))\n",
    "diccprueba= diccionario(preptext(textoprueba))\n",
    "dicctotal= diccionario(preptext(totaltext))\n"
   ]
  },
  {
   "cell_type": "markdown",
   "metadata": {},
   "source": [
    "### Funciones para analizar los texto: conteo de palabras unicas, palabras totales, palabras de 4 letras y densidas de frecuencia segun tamaño de palabra.\n",
    "\n",
    "la funcion words returna una pareja de numero donde el primero es el numero de palabras de 4 letras unicas que aparece y el segundo es el numero total de veces que aparecen palabras de 4 letras.\n",
    "\n",
    "la funcion words4 recibe el diccionario y retorna un diccionario pero de solo las palabras de 4 letras."
   ]
  },
  {
   "cell_type": "code",
   "execution_count": 330,
   "metadata": {},
   "outputs": [],
   "source": [
    "def words(diccionario):\n",
    "    total=0\n",
    "    for word in diccionario:\n",
    "        total+= diccionario[word]\n",
    "    return [len(diccionario),total]\n",
    "\n",
    "def words4(diccionario):\n",
    "    diccionario_4={}\n",
    "    for word in diccionario:\n",
    "        if len(word)== 4:\n",
    "            diccionario_4[word]=diccionario[word]\n",
    "    return diccionario_4\n"
   ]
  },
  {
   "cell_type": "markdown",
   "metadata": {},
   "source": [
    "### Densidad de probabilidad segun tamaño de la palabra\n",
    "Esta funcion retorna una pareja de listas, en donde la primera es el numero de veces que aparecen palabras unicas segun si tamaño, por ejemplo la posicion densidad[0][2] me indica el numero de palabras unicas de 3 letras que hay en el documento. Mientras que la segunda lista me dice el numero de palabras totales, es decir que tiene en cuenta si aparece varias veces una misma palabras."
   ]
  },
  {
   "cell_type": "code",
   "execution_count": 331,
   "metadata": {},
   "outputs": [],
   "source": [
    "def densidad(diccionario):\n",
    "    densidad=[np.zeros(21),np.zeros(21)]\n",
    "    for word in diccionario:\n",
    "        for i in range(21):\n",
    "            if len(word)==i:\n",
    "                densidad[0][i]+=1\n",
    "                densidad[1][i]+=diccionario[word]\n",
    "    return densidad         \n",
    "            "
   ]
  },
  {
   "cell_type": "markdown",
   "metadata": {},
   "source": [
    "### Analisis de cada texto:"
   ]
  },
  {
   "cell_type": "markdown",
   "metadata": {},
   "source": [
    "#### Texto 1: Cien años de soledad"
   ]
  },
  {
   "cell_type": "code",
   "execution_count": 332,
   "metadata": {},
   "outputs": [
    {
     "name": "stdout",
     "output_type": "stream",
     "text": [
      "El texto tiene:\n",
      "palabras unicas'15698', total de palabras '139345'\n",
      "palabras unicas de 4 letras'551', total de palabras de 4 letras '11197'\n"
     ]
    }
   ],
   "source": [
    "print(\"El texto tiene:\")\n",
    "print(f\"palabras unicas'{words(dicc1)[0]}', total de palabras '{words(dicc1)[1]}'\")\n",
    "print(f\"palabras unicas de 4 letras'{words(words4(dicc1))[0]}', total de palabras de 4 letras '{words(words4(dicc1))[1]}'\")"
   ]
  },
  {
   "cell_type": "code",
   "execution_count": 333,
   "metadata": {},
   "outputs": [
    {
     "data": {
      "text/plain": [
       "[<matplotlib.lines.Line2D at 0x1839b1928e0>]"
      ]
     },
     "execution_count": 333,
     "metadata": {},
     "output_type": "execute_result"
    },
    {
     "data": {
      "image/png": "[encoded data removed]",
      "text/plain": [
       "<Figure size 432x288 with 1 Axes>"
      ]
     },
     "metadata": {
      "needs_background": "light"
     },
     "output_type": "display_data"
    }
   ],
   "source": [
    "plt.plot(np.arange(21),densidad(dicc1)[0])"
   ]
  },
  {
   "cell_type": "code",
   "execution_count": 334,
   "metadata": {},
   "outputs": [
    {
     "data": {
      "text/plain": [
       "[<matplotlib.lines.Line2D at 0x183a95ec6a0>]"
      ]
     },
     "execution_count": 334,
     "metadata": {},
     "output_type": "execute_result"
    },
    {
     "data": {
      "image/png": "[encoded data removed]",
      "text/plain": [
       "<Figure size 432x288 with 1 Axes>"
      ]
     },
     "metadata": {
      "needs_background": "light"
     },
     "output_type": "display_data"
    }
   ],
   "source": [
    "plt.plot(np.arange(21),densidad(dicc1)[1])"
   ]
  },
  {
   "cell_type": "markdown",
   "metadata": {},
   "source": [
    "#### Texto 2: Crimen y castigo "
   ]
  },
  {
   "cell_type": "code",
   "execution_count": 335,
   "metadata": {},
   "outputs": [
    {
     "name": "stdout",
     "output_type": "stream",
     "text": [
      "El texto tiene:\n",
      "palabras unicas'27409', total de palabras '160469'\n",
      "palabras unicas de 4 letras'707', total de palabras de 4 letras '14395'\n"
     ]
    }
   ],
   "source": [
    "print(\"El texto tiene:\")\n",
    "print(f\"palabras unicas'{words(dicc2)[0]}', total de palabras '{words(dicc2)[1]}'\")\n",
    "print(f\"palabras unicas de 4 letras'{words(words4(dicc2))[0]}', total de palabras de 4 letras '{words(words4(dicc2))[1]}'\")"
   ]
  },
  {
   "cell_type": "code",
   "execution_count": 336,
   "metadata": {},
   "outputs": [
    {
     "data": {
      "text/plain": [
       "[<matplotlib.lines.Line2D at 0x183a88bdf70>]"
      ]
     },
     "execution_count": 336,
     "metadata": {},
     "output_type": "execute_result"
    },
    {
     "data": {
      "image/png": "[encoded data removed]",
      "text/plain": [
       "<Figure size 432x288 with 1 Axes>"
      ]
     },
     "metadata": {
      "needs_background": "light"
     },
     "output_type": "display_data"
    }
   ],
   "source": [
    "plt.plot(np.arange(21),densidad(dicc2)[0])"
   ]
  },
  {
   "cell_type": "code",
   "execution_count": 337,
   "metadata": {},
   "outputs": [
    {
     "data": {
      "text/plain": [
       "[<matplotlib.lines.Line2D at 0x1839df77c70>]"
      ]
     },
     "execution_count": 337,
     "metadata": {},
     "output_type": "execute_result"
    },
    {
     "data": {
      "image/png": "[encoded data removed]",
      "text/plain": [
       "<Figure size 432x288 with 1 Axes>"
      ]
     },
     "metadata": {
      "needs_background": "light"
     },
     "output_type": "display_data"
    }
   ],
   "source": [
    "plt.plot(np.arange(21),densidad(dicc2)[1])"
   ]
  },
  {
   "cell_type": "markdown",
   "metadata": {},
   "source": [
    "#### Texto 3: El retrato de Dorian Gray"
   ]
  },
  {
   "cell_type": "code",
   "execution_count": 338,
   "metadata": {},
   "outputs": [
    {
     "name": "stdout",
     "output_type": "stream",
     "text": [
      "El texto tiene:\n",
      "palabras unicas'15642', total de palabras '70075'\n",
      "palabras unicas de 4 letras'634', total de palabras de 4 letras '6536'\n"
     ]
    }
   ],
   "source": [
    "print(\"El texto tiene:\")\n",
    "print(f\"palabras unicas'{words(dicc3)[0]}', total de palabras '{words(dicc3)[1]}'\")\n",
    "print(f\"palabras unicas de 4 letras'{words(words4(dicc3))[0]}', total de palabras de 4 letras '{words(words4(dicc3))[1]}'\")"
   ]
  },
  {
   "cell_type": "code",
   "execution_count": 339,
   "metadata": {},
   "outputs": [
    {
     "data": {
      "text/plain": [
       "[<matplotlib.lines.Line2D at 0x183ac189190>]"
      ]
     },
     "execution_count": 339,
     "metadata": {},
     "output_type": "execute_result"
    },
    {
     "data": {
      "image/png": "[encoded data removed]",
      "text/plain": [
       "<Figure size 432x288 with 1 Axes>"
      ]
     },
     "metadata": {
      "needs_background": "light"
     },
     "output_type": "display_data"
    }
   ],
   "source": [
    "plt.plot(np.arange(21),densidad(dicc3)[0])"
   ]
  },
  {
   "cell_type": "code",
   "execution_count": 340,
   "metadata": {},
   "outputs": [
    {
     "data": {
      "text/plain": [
       "[<matplotlib.lines.Line2D at 0x183bbea9580>]"
      ]
     },
     "execution_count": 340,
     "metadata": {},
     "output_type": "execute_result"
    },
    {
     "data": {
      "image/png": "[encoded data removed]",
      "text/plain": [
       "<Figure size 432x288 with 1 Axes>"
      ]
     },
     "metadata": {
      "needs_background": "light"
     },
     "output_type": "display_data"
    }
   ],
   "source": [
    "plt.plot(np.arange(21),densidad(dicc3)[1])"
   ]
  },
  {
   "cell_type": "markdown",
   "metadata": {},
   "source": [
    "#### Texto 4: El Quijote de la mancha"
   ]
  },
  {
   "cell_type": "code",
   "execution_count": 341,
   "metadata": {},
   "outputs": [
    {
     "name": "stdout",
     "output_type": "stream",
     "text": [
      "El texto tiene:\n",
      "palabras unicas'15799', total de palabras '184834'\n",
      "palabras unicas de 4 letras'642', total de palabras de 4 letras '17765'\n"
     ]
    }
   ],
   "source": [
    "print(\"El texto tiene:\")\n",
    "print(f\"palabras unicas'{words(dicc4)[0]}', total de palabras '{words(dicc4)[1]}'\")\n",
    "print(f\"palabras unicas de 4 letras'{words(words4(dicc4))[0]}', total de palabras de 4 letras '{words(words4(dicc4))[1]}'\")"
   ]
  },
  {
   "cell_type": "code",
   "execution_count": 342,
   "metadata": {},
   "outputs": [
    {
     "data": {
      "text/plain": [
       "[<matplotlib.lines.Line2D at 0x183b95b6ca0>]"
      ]
     },
     "execution_count": 342,
     "metadata": {},
     "output_type": "execute_result"
    },
    {
     "data": {
      "image/png": "[encoded data removed]",
      "text/plain": [
       "<Figure size 432x288 with 1 Axes>"
      ]
     },
     "metadata": {
      "needs_background": "light"
     },
     "output_type": "display_data"
    }
   ],
   "source": [
    "plt.plot(np.arange(21),densidad(dicc4)[0])"
   ]
  },
  {
   "cell_type": "code",
   "execution_count": 343,
   "metadata": {},
   "outputs": [
    {
     "data": {
      "text/plain": [
       "[<matplotlib.lines.Line2D at 0x183bb9e7340>]"
      ]
     },
     "execution_count": 343,
     "metadata": {},
     "output_type": "execute_result"
    },
    {
     "data": {
      "image/png": "[encoded data removed]",
      "text/plain": [
       "<Figure size 432x288 with 1 Axes>"
      ]
     },
     "metadata": {
      "needs_background": "light"
     },
     "output_type": "display_data"
    }
   ],
   "source": [
    "plt.plot(np.arange(21),densidad(dicc4)[1])"
   ]
  },
  {
   "cell_type": "markdown",
   "metadata": {},
   "source": [
    "#### Texto 5: La isla del tesoro"
   ]
  },
  {
   "cell_type": "code",
   "execution_count": 344,
   "metadata": {},
   "outputs": [
    {
     "name": "stdout",
     "output_type": "stream",
     "text": [
      "El texto tiene:\n",
      "palabras unicas'15968', total de palabras '81864'\n",
      "palabras unicas de 4 letras'624', total de palabras de 4 letras '7891'\n"
     ]
    }
   ],
   "source": [
    "print(\"El texto tiene:\")\n",
    "print(f\"palabras unicas'{words(dicc5)[0]}', total de palabras '{words(dicc5)[1]}'\")\n",
    "print(f\"palabras unicas de 4 letras'{words(words4(dicc5))[0]}', total de palabras de 4 letras '{words(words4(dicc5))[1]}'\")"
   ]
  },
  {
   "cell_type": "code",
   "execution_count": 345,
   "metadata": {},
   "outputs": [
    {
     "data": {
      "text/plain": [
       "[<matplotlib.lines.Line2D at 0x183babd3580>]"
      ]
     },
     "execution_count": 345,
     "metadata": {},
     "output_type": "execute_result"
    },
    {
     "data": {
      "image/png": "[encoded data removed]",
      "text/plain": [
       "<Figure size 432x288 with 1 Axes>"
      ]
     },
     "metadata": {
      "needs_background": "light"
     },
     "output_type": "display_data"
    }
   ],
   "source": [
    "plt.plot(np.arange(21),densidad(dicc5)[0])"
   ]
  },
  {
   "cell_type": "code",
   "execution_count": 346,
   "metadata": {},
   "outputs": [
    {
     "data": {
      "text/plain": [
       "[<matplotlib.lines.Line2D at 0x183bb33e6d0>]"
      ]
     },
     "execution_count": 346,
     "metadata": {},
     "output_type": "execute_result"
    },
    {
     "data": {
      "image/png": "[encoded data removed]",
      "text/plain": [
       "<Figure size 432x288 with 1 Axes>"
      ]
     },
     "metadata": {
      "needs_background": "light"
     },
     "output_type": "display_data"
    }
   ],
   "source": [
    "plt.plot(np.arange(21),densidad(dicc5)[1])"
   ]
  },
  {
   "cell_type": "markdown",
   "metadata": {},
   "source": [
    "#### Texto 6: Sentido y Sensibilidad"
   ]
  },
  {
   "cell_type": "code",
   "execution_count": 347,
   "metadata": {},
   "outputs": [
    {
     "name": "stdout",
     "output_type": "stream",
     "text": [
      "El texto tiene:\n",
      "palabras unicas'15968', total de palabras '1938316'\n",
      "palabras unicas de 4 letras'2161', total de palabras de 4 letras '169936'\n"
     ]
    }
   ],
   "source": [
    "print(\"El texto tiene:\")\n",
    "print(f\"palabras unicas'{words(dicc5)[0]}', total de palabras '{words(dicc6)[1]}'\")\n",
    "print(f\"palabras unicas de 4 letras'{words(words4(dicc6))[0]}', total de palabras de 4 letras '{words(words4(dicc6))[1]}'\")"
   ]
  },
  {
   "cell_type": "code",
   "execution_count": 348,
   "metadata": {},
   "outputs": [
    {
     "data": {
      "text/plain": [
       "[<matplotlib.lines.Line2D at 0x183bbeeab50>]"
      ]
     },
     "execution_count": 348,
     "metadata": {},
     "output_type": "execute_result"
    },
    {
     "data": {
      "image/png": "[encoded data removed]",
      "text/plain": [
       "<Figure size 432x288 with 1 Axes>"
      ]
     },
     "metadata": {
      "needs_background": "light"
     },
     "output_type": "display_data"
    }
   ],
   "source": [
    "plt.plot(np.arange(21),densidad(dicc6)[0])"
   ]
  },
  {
   "cell_type": "code",
   "execution_count": 349,
   "metadata": {},
   "outputs": [
    {
     "data": {
      "text/plain": [
       "[<matplotlib.lines.Line2D at 0x183bacf4220>]"
      ]
     },
     "execution_count": 349,
     "metadata": {},
     "output_type": "execute_result"
    },
    {
     "data": {
      "image/png": "[encoded data removed]",
      "text/plain": [
       "<Figure size 432x288 with 1 Axes>"
      ]
     },
     "metadata": {
      "needs_background": "light"
     },
     "output_type": "display_data"
    }
   ],
   "source": [
    "plt.plot(np.arange(21),densidad(dicc6)[1])"
   ]
  },
  {
   "cell_type": "markdown",
   "metadata": {},
   "source": [
    "#### Suma de todos los textos:"
   ]
  },
  {
   "cell_type": "code",
   "execution_count": 350,
   "metadata": {},
   "outputs": [
    {
     "name": "stdout",
     "output_type": "stream",
     "text": [
      "El texto tiene:\n",
      "palabras unicas'175859', total de palabras '2574898'\n",
      "palabras unicas de 4 letras'2596', total de palabras de 4 letras '227720'\n"
     ]
    }
   ],
   "source": [
    "print(\"El texto tiene:\")\n",
    "print(f\"palabras unicas'{words(dicctotal)[0]}', total de palabras '{words(dicctotal)[1]}'\")\n",
    "print(f\"palabras unicas de 4 letras'{words(words4(dicctotal))[0]}', total de palabras de 4 letras '{words(words4(dicctotal))[1]}'\")"
   ]
  },
  {
   "cell_type": "code",
   "execution_count": 351,
   "metadata": {},
   "outputs": [
    {
     "data": {
      "text/plain": [
       "Text(0, 0.5, 'Palabras')"
      ]
     },
     "execution_count": 351,
     "metadata": {},
     "output_type": "execute_result"
    },
    {
     "data": {
      "image/png": "[encoded data removed]",
      "text/plain": [
       "<Figure size 432x288 with 1 Axes>"
      ]
     },
     "metadata": {
      "needs_background": "light"
     },
     "output_type": "display_data"
    }
   ],
   "source": [
    "plt.plot(np.arange(21),densidad(dicctotal)[0])\n",
    "plt.xlabel(\"Cantidad de letras en la palabra\")\n",
    "plt.ylabel(\"Palabras\")"
   ]
  },
  {
   "cell_type": "code",
   "execution_count": 352,
   "metadata": {},
   "outputs": [
    {
     "data": {
      "text/plain": [
       "Text(0, 0.5, 'Palabras')"
      ]
     },
     "execution_count": 352,
     "metadata": {},
     "output_type": "execute_result"
    },
    {
     "data": {
      "image/png": "[encoded data removed]",
      "text/plain": [
       "<Figure size 432x288 with 1 Axes>"
      ]
     },
     "metadata": {
      "needs_background": "light"
     },
     "output_type": "display_data"
    }
   ],
   "source": [
    "plt.plot(np.arange(21),densidad(dicctotal)[1])\n",
    "plt.xlabel(\"Cantidad de letras en la palabra\")\n",
    "plt.ylabel(\"Palabras\")"
   ]
  },
  {
   "cell_type": "markdown",
   "metadata": {},
   "source": [
    "## Hallamos la probabilidad de cada letra de aparecer en una de las 4 posiciones\n",
    "\n",
    "Se define una funcion para que a partir del diccionario de la suma de todos los textos y tomando solo palabras de 4 letras, halle la frecuencia con la que aparecen en las distintas posiciones."
   ]
  },
  {
   "cell_type": "markdown",
   "metadata": {},
   "source": [
    "Calculamos:\n",
    "    palabras4: Palabras de cuatro letras y su frecuencia en la totalidad de los textos.\n",
    "    Numero4u: Cantidad de palabras únicas de 4 letras en todos los textos.\n",
    "    Numero4: Cantidad de palabras totales de 4 letras en todos los textos."
   ]
  },
  {
   "cell_type": "code",
   "execution_count": 353,
   "metadata": {},
   "outputs": [],
   "source": [
    "palabras4= words4(dicctotal) \n",
    "Numero4u = words(words4(dicctotal))[0]\n",
    "Numero4 = words(words4(dicctotal))[1]"
   ]
  },
  {
   "cell_type": "code",
   "execution_count": 354,
   "metadata": {},
   "outputs": [],
   "source": [
    "def probabilidadletras(diccionario, numero):\n",
    "    propword1={}\n",
    "    propword2={}\n",
    "    propword3={}\n",
    "    propword4={}\n",
    "    \n",
    "    peso = 1/numero\n",
    "    \n",
    "    for word in diccionario:\n",
    "        if word[0] in propword1:\n",
    "            propword1[word[0]]+=peso\n",
    "        else:\n",
    "            propword1[word[0]]=peso\n",
    "            \n",
    "    for word in diccionario:\n",
    "        if word[1] in propword2:\n",
    "            propword2[word[1]]+=peso\n",
    "        else:\n",
    "            propword2[word[1]]=peso\n",
    "            \n",
    "    for word in diccionario:\n",
    "        if word[2] in propword3:\n",
    "            propword3[word[2]]+=peso\n",
    "        else:\n",
    "            propword3[word[2]]=peso\n",
    "            \n",
    "    for word in diccionario:\n",
    "        if word[3] in propword4:\n",
    "            propword4[word[3]]+=peso\n",
    "        else:\n",
    "            propword4[word[3]]=peso\n",
    "    return [propword1,propword2,propword3,propword4]"
   ]
  },
  {
   "cell_type": "code",
   "execution_count": 355,
   "metadata": {},
   "outputs": [
    {
     "data": {
      "text/plain": [
       "{'c': 0.06702619414483829,\n",
       " 'a': 0.0812788906009244,\n",
       " 'p': 0.06587057010785834,\n",
       " 'e': 0.04006163328197227,\n",
       " 'd': 0.057395993836671905,\n",
       " 'i': 0.025038520801232644,\n",
       " 'h': 0.03543913713405237,\n",
       " 't': 0.055084745762711954,\n",
       " 'v': 0.03967642526964561,\n",
       " 'j': 0.013482280431432982,\n",
       " 'm': 0.07318952234206472,\n",
       " 'r': 0.052773497688752,\n",
       " 'l': 0.05161787365177203,\n",
       " 's': 0.07280431432973807,\n",
       " 'o': 0.03852080123266564,\n",
       " 'b': 0.043913713405238856,\n",
       " 'u': 0.011941448382126355,\n",
       " 'y': 0.028890600924499195,\n",
       " 'ñ': 0.0003852080123266564,\n",
       " 'é': 0.01386748844375964,\n",
       " 'g': 0.02388289676425268,\n",
       " 'n': 0.03466872110939905,\n",
       " 'f': 0.03197226502311244,\n",
       " 'q': 0.0057781201848998475,\n",
       " 'ú': 0.0003852080123266564,\n",
       " 'ó': 0.001926040061633282,\n",
       " 'x': 0.010015408320493071,\n",
       " 'á': 0.006548536209553161,\n",
       " 'z': 0.004622496147919877,\n",
       " 'k': 0.008474576271186444,\n",
       " 'w': 0.002696456086286595,\n",
       " 'í': 0.0007704160246533128}"
      ]
     },
     "execution_count": 355,
     "metadata": {},
     "output_type": "execute_result"
    }
   ],
   "source": [
    "probabilidadletras(palabras4,Numero4u)[0]"
   ]
  },
  {
   "cell_type": "code",
   "execution_count": 356,
   "metadata": {},
   "outputs": [
    {
     "data": {
      "text/plain": [
       "{'i': 0.12865947611710268,\n",
       " 'ñ': 0.001926040061633282,\n",
       " 'a': 0.17141756548536255,\n",
       " 'l': 0.041987673343605564,\n",
       " 'o': 0.14830508474576262,\n",
       " 'e': 0.13559322033898266,\n",
       " 'm': 0.012326656394453012,\n",
       " 'u': 0.08744221879815083,\n",
       " 's': 0.03466872110939905,\n",
       " 'd': 0.011556240369799698,\n",
       " 'r': 0.057395993836671905,\n",
       " 't': 0.010400616332819728,\n",
       " 'n': 0.01848998459167951,\n",
       " 'í': 0.03197226502311244,\n",
       " 'c': 0.006933744221879818,\n",
       " 'ó': 0.0015408320493066256,\n",
       " 'g': 0.004622496147919877,\n",
       " 'z': 0.00423728813559322,\n",
       " 'b': 0.008089368258859787,\n",
       " 'j': 0.003852080123266564,\n",
       " 'q': 0.00423728813559322,\n",
       " 'p': 0.006548536209553161,\n",
       " 'y': 0.006933744221879818,\n",
       " 'é': 0.01386748844375964,\n",
       " 'v': 0.008859784283513101,\n",
       " 'h': 0.016563944530046233,\n",
       " 'f': 0.0030816640986132513,\n",
       " 'ú': 0.007704160246533131,\n",
       " 'á': 0.0023112480739599386,\n",
       " 'x': 0.006548536209553161,\n",
       " 'w': 0.0015408320493066256,\n",
       " 'k': 0.0003852080123266564}"
      ]
     },
     "execution_count": 356,
     "metadata": {},
     "output_type": "execute_result"
    }
   ],
   "source": [
    "probabilidadletras(palabras4,Numero4u)[1]"
   ]
  },
  {
   "cell_type": "code",
   "execution_count": 357,
   "metadata": {},
   "outputs": [
    {
     "data": {
      "text/plain": [
       "{'e': 0.07627118644067793,\n",
       " 'o': 0.04237288135593222,\n",
       " 'r': 0.07318952234206472,\n",
       " 'i': 0.05161787365177203,\n",
       " 'm': 0.04892141756548542,\n",
       " 'd': 0.049691833590138734,\n",
       " 'á': 0.006933744221879818,\n",
       " 'z': 0.016178736517719578,\n",
       " 's': 0.07318952234206472,\n",
       " 'y': 0.025808936825885954,\n",
       " 'l': 0.07627118644067793,\n",
       " 't': 0.06471494607087838,\n",
       " 'p': 0.01848998459167951,\n",
       " 'g': 0.02696456086286592,\n",
       " 'í': 0.012711864406779669,\n",
       " 'n': 0.0701078582434515,\n",
       " 'c': 0.03967642526964561,\n",
       " 'j': 0.018875192604006163,\n",
       " 'ñ': 0.013482280431432982,\n",
       " 'v': 0.016178736517719578,\n",
       " 'a': 0.08397534668721096,\n",
       " 'h': 0.014252696456086296,\n",
       " 'b': 0.023497688751926024,\n",
       " 'u': 0.024268104776579334,\n",
       " 'ú': 0.001926040061633282,\n",
       " 'f': 0.008089368258859787,\n",
       " 'é': 0.006548536209553161,\n",
       " 'x': 0.006933744221879818,\n",
       " 'ó': 0.0030816640986132513,\n",
       " 'k': 0.0034668721109399076,\n",
       " 'w': 0.0023112480739599386}"
      ]
     },
     "execution_count": 357,
     "metadata": {},
     "output_type": "execute_result"
    }
   ],
   "source": [
    "probabilidadletras(palabras4,Numero4u)[2]"
   ]
  },
  {
   "cell_type": "code",
   "execution_count": 358,
   "metadata": {
    "scrolled": true
   },
   "outputs": [
    {
     "data": {
      "text/plain": [
       "{'n': 0.05546995377503861,\n",
       " 's': 0.09013867488443739,\n",
       " 'a': 0.20916795069337576,\n",
       " 'o': 0.17565485362095587,\n",
       " 'é': 0.03081664098613247,\n",
       " 'á': 0.010400616332819728,\n",
       " 'e': 0.132896764252696,\n",
       " 'ó': 0.041602465331278905,\n",
       " 'd': 0.012326656394453012,\n",
       " 'r': 0.02850539291217254,\n",
       " 'l': 0.03582434514637903,\n",
       " 'í': 0.021956856702619404,\n",
       " 'z': 0.008089368258859787,\n",
       " 'i': 0.031201848998459125,\n",
       " 'c': 0.0034668721109399076,\n",
       " 'u': 0.010400616332819728,\n",
       " 'm': 0.00423728813559322,\n",
       " 'k': 0.006933744221879818,\n",
       " 'y': 0.036979969183359,\n",
       " 'b': 0.0011556240369799693,\n",
       " 'h': 0.011941448382126355,\n",
       " 'p': 0.0023112480739599386,\n",
       " 't': 0.017334360554699543,\n",
       " 'g': 0.004622496147919877,\n",
       " 'ú': 0.0057781201848998475,\n",
       " 'x': 0.002696456086286595,\n",
       " 'f': 0.00423728813559322,\n",
       " 'w': 0.0007704160246533128,\n",
       " 'j': 0.0007704160246533128,\n",
       " 'v': 0.0023112480739599386}"
      ]
     },
     "execution_count": 358,
     "metadata": {},
     "output_type": "execute_result"
    }
   ],
   "source": [
    "probabilidadletras(palabras4,Numero4u)[3]"
   ]
  },
  {
   "cell_type": "markdown",
   "metadata": {},
   "source": [
    "Creamos la lista de caracteres analizados:"
   ]
  },
  {
   "cell_type": "code",
   "execution_count": 359,
   "metadata": {},
   "outputs": [
    {
     "data": {
      "text/plain": [
       "['a',\n",
       " 'b',\n",
       " 'c',\n",
       " 'd',\n",
       " 'e',\n",
       " 'f',\n",
       " 'g',\n",
       " 'h',\n",
       " 'i',\n",
       " 'j',\n",
       " 'k',\n",
       " 'l',\n",
       " 'm',\n",
       " 'n',\n",
       " 'o',\n",
       " 'p',\n",
       " 'q',\n",
       " 'r',\n",
       " 's',\n",
       " 't',\n",
       " 'u',\n",
       " 'v',\n",
       " 'w',\n",
       " 'x',\n",
       " 'y',\n",
       " 'z',\n",
       " 'á',\n",
       " 'é',\n",
       " 'í',\n",
       " 'ñ',\n",
       " 'ó',\n",
       " 'ú']"
      ]
     },
     "execution_count": 359,
     "metadata": {},
     "output_type": "execute_result"
    }
   ],
   "source": [
    "caracteres = sorted(set(list(probabilidadletras(palabras4,Numero4u)[0].keys())+list(probabilidadletras(palabras4,Numero4u)[1].keys()) + list(probabilidadletras(palabras4,Numero4u)[2].keys())+list(probabilidadletras(palabras4,Numero4u)[3].keys())))\n",
    "caracteres\n"
   ]
  },
  {
   "cell_type": "markdown",
   "metadata": {},
   "source": [
    "### Modelo Independiente\n",
    "Creamos una función para, a partir de las probabilidades individuales de cada letra en cada posición, hallar la probabilidad de una palabra en específico."
   ]
  },
  {
   "cell_type": "code",
   "execution_count": 360,
   "metadata": {},
   "outputs": [],
   "source": [
    "def probabilidadpalabra (listaprobletras, listapalabra):\n",
    "    product = 1\n",
    "    pos = 0\n",
    "    for letra in listapalabra:\n",
    "        product*=listaprobletras[pos][letra]\n",
    "        pos+=1\n",
    "    return product\n",
    "          "
   ]
  },
  {
   "cell_type": "markdown",
   "metadata": {},
   "source": [
    "Haciendo uso de la función anterior, calculamos la probabilidad para todas las posibles combinaciones de 4 letras:"
   ]
  },
  {
   "cell_type": "code",
   "execution_count": 361,
   "metadata": {},
   "outputs": [],
   "source": [
    "def probabilidadpalabras (listaprobletras):\n",
    "    probpalabra={}\n",
    "    for letra1 in listaprobletras[0].keys():\n",
    "        for letra2 in listaprobletras[1].keys():\n",
    "            for letra3 in listaprobletras[2].keys():\n",
    "                for letra4 in listaprobletras[3].keys():\n",
    "                    probpalabra[letra1+letra2+letra3+letra4]=probabilidadpalabra (listaprobletras,[letra1,letra2,letra3,letra4])\n",
    "    return probpalabra"
   ]
  },
  {
   "cell_type": "markdown",
   "metadata": {},
   "source": [
    "Probabilidad de ejemplo para la palabra \"Hola\""
   ]
  },
  {
   "cell_type": "code",
   "execution_count": 362,
   "metadata": {
    "scrolled": true
   },
   "outputs": [
    {
     "data": {
      "text/plain": [
       "8.384840857266018e-05"
      ]
     },
     "execution_count": 362,
     "metadata": {},
     "output_type": "execute_result"
    }
   ],
   "source": [
    "probabilidadpalabra (probabilidadletras(palabras4,Numero4u),[\"h\",\"o\",\"l\",\"a\"])"
   ]
  },
  {
   "cell_type": "markdown",
   "metadata": {},
   "source": [
    "Probabilidad de ejemplo para la palabra \"zzzz\""
   ]
  },
  {
   "cell_type": "code",
   "execution_count": 363,
   "metadata": {
    "scrolled": true
   },
   "outputs": [
    {
     "data": {
      "text/plain": [
       "0.00024472595782767346"
      ]
     },
     "execution_count": 363,
     "metadata": {},
     "output_type": "execute_result"
    }
   ],
   "source": [
    "probabilidadpalabra (probabilidadletras(palabras4,Numero4u),[\"a\",\"a\",\"a\",\"a\"])"
   ]
  },
  {
   "cell_type": "code",
   "execution_count": 364,
   "metadata": {},
   "outputs": [],
   "source": [
    "densidadindependiente = probabilidadpalabras(probabilidadletras(palabras4,Numero4u))"
   ]
  },
  {
   "cell_type": "code",
   "execution_count": 365,
   "metadata": {},
   "outputs": [],
   "source": [
    "def entropia (probabilidadpalabras):\n",
    "    entropia = 0;\n",
    "    for palabra in probabilidadpalabras.keys():\n",
    "        if probabilidadpalabras[palabra] != 0:\n",
    "            entropia+=(probabilidadpalabras[palabra]*math.log(probabilidadpalabras[palabra],2))\n",
    "    return -entropia"
   ]
  },
  {
   "cell_type": "code",
   "execution_count": 366,
   "metadata": {},
   "outputs": [
    {
     "data": {
      "text/plain": [
       "16.45505662632604"
      ]
     },
     "execution_count": 366,
     "metadata": {},
     "output_type": "execute_result"
    }
   ],
   "source": [
    "entropiaindependiente = entropia (densidadindependiente)\n",
    "entropiaindependiente"
   ]
  },
  {
   "cell_type": "markdown",
   "metadata": {},
   "source": [
    "### Modelo Completo"
   ]
  },
  {
   "cell_type": "code",
   "execution_count": 367,
   "metadata": {},
   "outputs": [],
   "source": [
    "def probpalabrascomp (listaprobletras, dicc4, Num4):\n",
    "    probpalabra={}\n",
    "    for letra1 in listaprobletras:\n",
    "        for letra2 in listaprobletras:\n",
    "            for letra3 in listaprobletras:\n",
    "                for letra4 in listaprobletras:\n",
    "                    if (letra1+letra2+letra3+letra4)in dicc4.keys():\n",
    "                        probpalabra[letra1+letra2+letra3+letra4]=dicc4[letra1+letra2+letra3+letra4]/Num4\n",
    "                    else:\n",
    "                        probpalabra[letra1+letra2+letra3+letra4]=0\n",
    "    return probpalabra"
   ]
  },
  {
   "cell_type": "code",
   "execution_count": 368,
   "metadata": {},
   "outputs": [],
   "source": [
    "densidadcompleta = probpalabrascomp (caracteres, words4(dicctotal),words(words4(dicctotal))[1])"
   ]
  },
  {
   "cell_type": "code",
   "execution_count": 369,
   "metadata": {},
   "outputs": [
    {
     "data": {
      "text/plain": [
       "7.527299650659654"
      ]
     },
     "execution_count": 369,
     "metadata": {},
     "output_type": "execute_result"
    }
   ],
   "source": [
    "entropiacompleta = entropia (densidadcompleta)\n",
    "entropiacompleta"
   ]
  },
  {
   "cell_type": "markdown",
   "metadata": {},
   "source": [
    "Por ejemplo, para la palabra \"hola\""
   ]
  },
  {
   "cell_type": "code",
   "execution_count": 370,
   "metadata": {},
   "outputs": [
    {
     "data": {
      "text/plain": [
       "5.708765150184437e-05"
      ]
     },
     "execution_count": 370,
     "metadata": {},
     "output_type": "execute_result"
    }
   ],
   "source": [
    "densidadcompleta[\"hola\"]"
   ]
  },
  {
   "cell_type": "markdown",
   "metadata": {},
   "source": [
    "Y para el caso \"zzzz\""
   ]
  },
  {
   "cell_type": "code",
   "execution_count": 371,
   "metadata": {},
   "outputs": [
    {
     "data": {
      "text/plain": [
       "0"
      ]
     },
     "execution_count": 371,
     "metadata": {},
     "output_type": "execute_result"
    }
   ],
   "source": [
    "densidadcompleta[\"aaaa\"]"
   ]
  },
  {
   "cell_type": "markdown",
   "metadata": {},
   "source": [
    "La cantidad de probabilidades que no aparecieron en el nuevo modelo completo son:"
   ]
  },
  {
   "cell_type": "code",
   "execution_count": 372,
   "metadata": {},
   "outputs": [
    {
     "data": {
      "text/plain": [
       "1045980"
      ]
     },
     "execution_count": 372,
     "metadata": {},
     "output_type": "execute_result"
    }
   ],
   "source": [
    "list(densidadcompleta.values()).count(0)\n",
    "\n"
   ]
  },
  {
   "cell_type": "markdown",
   "metadata": {},
   "source": [
    "### Modelo de correlaciones"
   ]
  },
  {
   "cell_type": "markdown",
   "metadata": {},
   "source": [
    "Cálculo de los marginales pareados:"
   ]
  },
  {
   "cell_type": "code",
   "execution_count": 373,
   "metadata": {},
   "outputs": [],
   "source": [
    "def margdistr (dicc4, pos1, pos2, char1, char2,numer4):\n",
    "    margindistribution = 0\n",
    "    for palabra in dicc4.keys():\n",
    "        if palabra[pos1]==char1 and palabra[pos2]==char2:\n",
    "            margindistribution += dicc4[palabra]\n",
    "    return margindistribution/numer4\n",
    "        "
   ]
  },
  {
   "cell_type": "markdown",
   "metadata": {},
   "source": [
    "Por ejemplo, para las letras \"d\" y \"a\" en las posiciones 0 y 1 respectivamente."
   ]
  },
  {
   "cell_type": "code",
   "execution_count": 374,
   "metadata": {},
   "outputs": [
    {
     "data": {
      "text/plain": [
       "0.04426049534516072"
      ]
     },
     "execution_count": 374,
     "metadata": {},
     "output_type": "execute_result"
    }
   ],
   "source": [
    "margdistr (palabras4, 2, 3, \"d\", \"a\", Numero4)"
   ]
  },
  {
   "cell_type": "markdown",
   "metadata": {},
   "source": [
    "Agrupamos los marginales en diccionarios para cada combinación de dos letras:"
   ]
  },
  {
   "cell_type": "code",
   "execution_count": 375,
   "metadata": {},
   "outputs": [],
   "source": [
    "def margtotal (dicc4, caracteres, pos1, pos2,numer4):\n",
    "    potencial = {}\n",
    "    for letra1 in caracteres:\n",
    "        for letra2 in caracteres:\n",
    "            potencial [letra1+letra2]= margdistr (dicc4, pos1, pos2, letra1, letra2,numer4)\n",
    "    return potencial\n",
    "    "
   ]
  },
  {
   "cell_type": "code",
   "execution_count": 376,
   "metadata": {},
   "outputs": [],
   "source": [
    "marg12 = margtotal (palabras4, caracteres, 0, 1,Numero4)\n",
    "marg23 = margtotal (palabras4, caracteres, 1, 2,Numero4)\n",
    "marg34 = margtotal (palabras4, caracteres, 2, 3,Numero4)\n",
    "marg13 = margtotal (palabras4, caracteres, 0, 2,Numero4)\n",
    "marg24 = margtotal (palabras4, caracteres, 1, 3,Numero4)\n",
    "marg14 = margtotal (palabras4, caracteres, 0, 3,Numero4)\n",
    "marg = [marg12, marg23, marg34, marg13, marg24, marg14]"
   ]
  },
  {
   "cell_type": "code",
   "execution_count": 377,
   "metadata": {},
   "outputs": [
    {
     "data": {
      "text/plain": [
       "0.999999999999999"
      ]
     },
     "execution_count": 377,
     "metadata": {},
     "output_type": "execute_result"
    }
   ],
   "source": [
    "sum (marg12.values())"
   ]
  },
  {
   "cell_type": "markdown",
   "metadata": {},
   "source": [
    "A partir de las distribuciones marginales, sacaremos el vocabulario eficaz (palabra cuya probabilidad es diferente de 0):"
   ]
  },
  {
   "cell_type": "code",
   "execution_count": 378,
   "metadata": {},
   "outputs": [],
   "source": [
    "def vocabefic (caracteres, palabras4, Numero4):\n",
    "    vocabulario = []\n",
    "    for letra1 in caracteres:\n",
    "        for letra2 in caracteres:\n",
    "            for letra3 in caracteres:\n",
    "                for letra4 in caracteres:\n",
    "                    if (margdistr (palabras4, 0, 1, letra1, letra2, Numero4) > 0 \n",
    "                    and margdistr (palabras4, 1, 2, letra2, letra3, Numero4) > 0 \n",
    "                    and margdistr (palabras4, 2, 3, letra3, letra4, Numero4) > 0 \n",
    "                    and margdistr (palabras4, 0, 2, letra1, letra3, Numero4) > 0 \n",
    "                    and margdistr (palabras4, 1, 3, letra2, letra4, Numero4) > 0 \n",
    "                    and margdistr (palabras4, 0, 3, letra1, letra4, Numero4) > 0):\n",
    "                        vocabulario.append(letra1+letra2+letra3+letra4)\n",
    "    sorted(vocabulario)\n",
    "    return vocabulario\n",
    "        "
   ]
  },
  {
   "cell_type": "code",
   "execution_count": 379,
   "metadata": {},
   "outputs": [],
   "source": [
    "vocabulario_eficaz = vocabefic(caracteres, palabras4, Numero4)"
   ]
  },
  {
   "cell_type": "markdown",
   "metadata": {},
   "source": [
    "La siguiente función nos permite hacer una iteración para hallar los \"potenciales\" de interacción a partir de los marginales, y con ellos la probabilidad teórica de cada palabra según el modelo de correlación por pares."
   ]
  },
  {
   "cell_type": "code",
   "execution_count": 380,
   "metadata": {},
   "outputs": [],
   "source": [
    "def potencial (vocabulario, caracteres, palabras4, numer4, marg):\n",
    "    longitud = len(vocabulario)\n",
    "    potencial12={}\n",
    "    potencial23={}\n",
    "    potencial34={}\n",
    "    potencial13={}\n",
    "    potencial24={}\n",
    "    potencial14={}\n",
    "    for letra1 in caracteres:\n",
    "        for letra2 in caracteres:\n",
    "            potencial12[letra1+letra2]=(1-math.log(longitud))/6\n",
    "            potencial23[letra1+letra2]=(1-math.log(longitud))/6\n",
    "            potencial34[letra1+letra2]=(1-math.log(longitud))/6\n",
    "            potencial13[letra1+letra2]=(1-math.log(longitud))/6\n",
    "            potencial24[letra1+letra2]=(1-math.log(longitud))/6\n",
    "            potencial14[letra1+letra2]=(1-math.log(longitud))/6\n",
    "    P={}\n",
    "    for letra1 in caracteres:\n",
    "        for letra2 in caracteres:\n",
    "            for letra3 in caracteres:\n",
    "                for letra4 in caracteres:\n",
    "                    P[letra1+letra2+letra3+letra4]=0\n",
    "    for i in range(1024):\n",
    "        for palabra in vocabulario:\n",
    "            #print(\"Suma de pot\", palabra,  potencial12[palabra[0]+palabra[1]]+potencial23[palabra[1]+palabra[2]]\n",
    "            #                      +potencial34[palabra[2]+palabra[3]]+potencial13[palabra[0]+palabra[2]]\n",
    "            #                      +potencial24[palabra[1]+palabra[3]]+potencial14[palabra[0]+palabra[3]]-1)\n",
    "            P [palabra]= math.exp(potencial12[palabra[0]+palabra[1]]+potencial23[palabra[1]+palabra[2]]\n",
    "                                  +potencial34[palabra[2]+palabra[3]]+potencial13[palabra[0]+palabra[2]]\n",
    "                                  +potencial24[palabra[1]+palabra[3]]+potencial14[palabra[0]+palabra[3]]-1)\n",
    "        E12 = {}\n",
    "        E23 = {}\n",
    "        E34 = {}\n",
    "        E13 = {}\n",
    "        E24 = {}\n",
    "        E14 = {} \n",
    "        for letra1 in caracteres:\n",
    "            for letra2 in caracteres:\n",
    "                E12[letra1+letra2] = 0\n",
    "                E23[letra1+letra2] = 0\n",
    "                E34[letra1+letra2] = 0\n",
    "                E13[letra1+letra2] = 0\n",
    "                E24[letra1+letra2] = 0\n",
    "                E14[letra1+letra2] = 0\n",
    "        for palabra in vocabulario:\n",
    "            E12[palabra[0]+palabra[1]]+=P[palabra]\n",
    "            E23[palabra[1]+palabra[2]]+=P[palabra]\n",
    "            E34[palabra[2]+palabra[3]]+=P[palabra]\n",
    "            E13[palabra[0]+palabra[2]]+=P[palabra]\n",
    "            E24[palabra[1]+palabra[3]]+=P[palabra]\n",
    "            E14[palabra[0]+palabra[3]]+=P[palabra]\n",
    "\n",
    "        for letra1 in caracteres:    \n",
    "            for letra2 in caracteres:\n",
    "                md12 = marg[0][letra1+ letra2]\n",
    "                if md12  > 0:\n",
    "                    #print (\"log1\", math.log(md12/E12[letra1+letra2])/6)\n",
    "                    potencial12[letra1+letra2]+=math.log(md12/E12[letra1+letra2])/(6*1024)\n",
    "                for letra3 in caracteres:\n",
    "                    md23 = marg[1][letra2+ letra3]\n",
    "                    md13 = marg[3][letra1+ letra3]\n",
    "                    if md23 > 0:\n",
    "                        #print (\"log2\", math.log(md23/E23[letra2+letra3])/6)\n",
    "                        potencial23[letra2+letra3]+=math.log(md23/E23[letra2+letra3])/(6*1024)\n",
    "                    if md13 > 0:\n",
    "                        #print (\"log4\", math.log(md13/E13[letra1+letra3])/6)\n",
    "                        potencial13[letra1+letra3]+=math.log(md13/E13[letra1+letra3])/(6*1024)\n",
    "                    for letra4 in caracteres:\n",
    "                        md34 = marg[2][letra3+ letra4]\n",
    "                        md24 = marg[4][letra2+ letra4]\n",
    "                        md14 = marg[5][letra1+ letra4]\n",
    "                        if md34 > 0:\n",
    "                            potencial34[letra3+letra4]+=math.log(md34/E34[letra3+letra4])/(6*1024)\n",
    "                        if md24 > 0:\n",
    "                            #print (\"log5\", math.log(md24/E24[letra2+letra4])/6)\n",
    "                            potencial24[letra2+letra4]+=math.log(md24/E24[letra2+letra4])/(6*1024)\n",
    "                        if md14 > 0:\n",
    "                            #print (\"log6\", math.log(md14/E14[letra1+letra4])/6)\n",
    "                            potencial14[letra1+letra4]+=math.log(md14/E14[letra1+letra4])/(6*1024)\n",
    "        \n",
    "    return [potencial12, potencial23, potencial34, potencial13, potencial24, potencial14, P]"
   ]
  },
  {
   "cell_type": "markdown",
   "metadata": {},
   "source": [
    "Sacamos cada uno de los potenciales de interacción, pero también la densidad de probabilidad por cada palabra:"
   ]
  },
  {
   "cell_type": "code",
   "execution_count": 381,
   "metadata": {},
   "outputs": [],
   "source": [
    "potinterac = potencial (vocabulario_eficaz, caracteres, palabras4, Numero4, marg)\n",
    "potinterac12=potinterac[0]\n",
    "potinterac23=potinterac[1]\n",
    "potinterac34=potinterac[2]\n",
    "potinterac13=potinterac[3]\n",
    "potinterac24=potinterac[4]\n",
    "potinterac14=potinterac[5]"
   ]
  },
  {
   "cell_type": "markdown",
   "metadata": {},
   "source": [
    "Algunos ejemplos de palabras en la nueva distribución d eprobabilidad:"
   ]
  },
  {
   "cell_type": "code",
   "execution_count": 382,
   "metadata": {},
   "outputs": [
    {
     "data": {
      "text/plain": [
       "0.00014102142970393201"
      ]
     },
     "execution_count": 382,
     "metadata": {},
     "output_type": "execute_result"
    }
   ],
   "source": [
    "densidadcorrelacion = potinterac[6]\n",
    "densidadcorrelacion[\"hola\"]"
   ]
  },
  {
   "cell_type": "code",
   "execution_count": 383,
   "metadata": {},
   "outputs": [
    {
     "data": {
      "text/plain": [
       "0"
      ]
     },
     "execution_count": 383,
     "metadata": {},
     "output_type": "execute_result"
    }
   ],
   "source": [
    "densidadcorrelacion[\"zzzz\"]"
   ]
  },
  {
   "cell_type": "markdown",
   "metadata": {},
   "source": [
    "Verificamos que no se haya perdido en gran medida la condición de normalidad para las palabras al hacer las iteraciones:"
   ]
  },
  {
   "cell_type": "code",
   "execution_count": 384,
   "metadata": {},
   "outputs": [
    {
     "data": {
      "text/plain": [
       "0.999886151246334"
      ]
     },
     "execution_count": 384,
     "metadata": {},
     "output_type": "execute_result"
    }
   ],
   "source": [
    "sum(densidadcorrelacion.values())"
   ]
  },
  {
   "cell_type": "markdown",
   "metadata": {},
   "source": [
    "Y la entropía para este modelo es:"
   ]
  },
  {
   "cell_type": "code",
   "execution_count": 385,
   "metadata": {},
   "outputs": [
    {
     "data": {
      "text/plain": [
       "9.034173785966932"
      ]
     },
     "execution_count": 385,
     "metadata": {},
     "output_type": "execute_result"
    }
   ],
   "source": [
    "entropiacorrelacion = entropia (densidadcorrelacion)\n",
    "entropiacorrelacion"
   ]
  },
  {
   "cell_type": "markdown",
   "metadata": {},
   "source": [
    "Podemos calcular, además, el vocabulario efectivo:"
   ]
  },
  {
   "cell_type": "code",
   "execution_count": 386,
   "metadata": {},
   "outputs": [
    {
     "data": {
      "text/plain": [
       "524"
      ]
     },
     "execution_count": 386,
     "metadata": {},
     "output_type": "execute_result"
    }
   ],
   "source": [
    "vocabcorrelacion_len = int(2**entropiacorrelacion)\n",
    "vocabcorrelacion_len"
   ]
  },
  {
   "cell_type": "code",
   "execution_count": 387,
   "metadata": {},
   "outputs": [],
   "source": [
    "vocabulariocorrelacion = dict(sorted(densidadcorrelacion.items(), key=operator.itemgetter(1), reverse=True)[0:vocabcorrelacion_len])"
   ]
  },
  {
   "cell_type": "code",
   "execution_count": 388,
   "metadata": {},
   "outputs": [],
   "source": [
    "def palabrascoinciden (vocabulariocorrelacion, densidadcompleta):\n",
    "    coinciden={}\n",
    "    lista = []\n",
    "    if type(densidadcompleta) == list:\n",
    "        lista = densidadcompleta\n",
    "    else:\n",
    "        lista = densidadcompleta.keys()\n",
    "    for palabra in vocabulariocorrelacion.keys():\n",
    "        if palabra in lista:\n",
    "            coinciden[palabra]=vocabulariocorrelacion[palabra]\n",
    "    return coinciden"
   ]
  },
  {
   "cell_type": "markdown",
   "metadata": {},
   "source": [
    "Revisamos cuántas palabras del nuevo vocabulario coinciden con las presentes en el modelo completo y en los textos:"
   ]
  },
  {
   "cell_type": "code",
   "execution_count": 404,
   "metadata": {},
   "outputs": [
    {
     "data": {
      "text/plain": [
       "{'como': 0.04348453445684193,\n",
       " 'para': 0.03640871421089544,\n",
       " 'dijo': 0.028249222319415835,\n",
       " 'pero': 0.026023461493595013,\n",
       " 'bien': 0.01855504112089674,\n",
       " 'todo': 0.015993849116121436,\n",
       " 'esta': 0.015008211848048831,\n",
       " 'ella': 0.01334378003795914,\n",
       " 'casa': 0.011998062355527979,\n",
       " 'este': 0.011228505248309236,\n",
       " 'esto': 0.010920108755015786,\n",
       " 'otro': 0.010084986572698022,\n",
       " 'otra': 0.009488091016086157,\n",
       " 'sólo': 0.00904595311192098,\n",
       " 'está': 0.009010051068488283,\n",
       " 'aquí': 0.008451250074796943,\n",
       " 'pera': 0.008093349578074735,\n",
       " 'pues': 0.007684129712352383,\n",
       " 'cual': 0.00765848737243131,\n",
       " 'gran': 0.0075998293178694155}"
      ]
     },
     "execution_count": 404,
     "metadata": {},
     "output_type": "execute_result"
    }
   ],
   "source": [
    "coincidencias=palabrascoinciden (vocabulariocorrelacion, palabras4)\n",
    "dict(sorted(coincidencias.items(), key=operator.itemgetter(1), reverse=True)[0:20])"
   ]
  },
  {
   "cell_type": "code",
   "execution_count": 390,
   "metadata": {},
   "outputs": [
    {
     "data": {
      "text/plain": [
       "278"
      ]
     },
     "execution_count": 390,
     "metadata": {},
     "output_type": "execute_result"
    }
   ],
   "source": [
    "len(list(coincidencias.keys()))"
   ]
  },
  {
   "cell_type": "markdown",
   "metadata": {},
   "source": [
    "Y aquellas palabras \"predichas\" o \"inventadas\" por el modelo:"
   ]
  },
  {
   "cell_type": "code",
   "execution_count": 391,
   "metadata": {},
   "outputs": [],
   "source": [
    "def palabrasnocoinciden (vocabulariocorrelacion, densidadcompleta):\n",
    "    nocoinciden={}\n",
    "    lista = []\n",
    "    if type(densidadcompleta) == list:\n",
    "        lista = densidadcompleta\n",
    "    else:\n",
    "        lista = densidadcompleta.keys()\n",
    "    for palabra in vocabulariocorrelacion.keys():\n",
    "        if not(palabra in lista):\n",
    "            nocoinciden[palabra]=vocabulariocorrelacion[palabra]\n",
    "    return nocoinciden"
   ]
  },
  {
   "cell_type": "code",
   "execution_count": 405,
   "metadata": {},
   "outputs": [
    {
     "data": {
      "text/plain": [
       "{'piro': 0.0044306018571409434,\n",
       " 'tido': 0.004157956533482435,\n",
       " 'pres': 0.004093487628698409,\n",
       " 'aste': 0.003943047979757256,\n",
       " 'tada': 0.003693454482213459,\n",
       " 'bijo': 0.003539165014676019,\n",
       " 'vada': 0.0033723532012524694,\n",
       " 'sodo': 0.003342231036462727,\n",
       " 'pira': 0.003285250190192714,\n",
       " 'dajo': 0.0032044417562175076,\n",
       " 'tues': 0.003143313308677219,\n",
       " 'illa': 0.0029321294397435258,\n",
       " 'tudo': 0.0027477222703311903,\n",
       " 'uños': 0.002684739288902025,\n",
       " 'noda': 0.00250242078514939,\n",
       " 'podo': 0.002487132099986853,\n",
       " 'coso': 0.002378363531209926,\n",
       " 'cemo': 0.0023739764698520187,\n",
       " 'dabe': 0.0021474720495081286,\n",
       " 'tado': 0.0020787787269638223}"
      ]
     },
     "execution_count": 405,
     "metadata": {},
     "output_type": "execute_result"
    }
   ],
   "source": [
    "palabras_creadas = palabrasnocoinciden (vocabulariocorrelacion, palabras4)\n",
    "dict(sorted(palabras_creadas.items(), key=operator.itemgetter(1), reverse=True)[0:20])"
   ]
  },
  {
   "cell_type": "code",
   "execution_count": 393,
   "metadata": {},
   "outputs": [
    {
     "data": {
      "text/plain": [
       "246"
      ]
     },
     "execution_count": 393,
     "metadata": {},
     "output_type": "execute_result"
    }
   ],
   "source": [
    "len(list(palabras_creadas.keys()))"
   ]
  },
  {
   "cell_type": "markdown",
   "metadata": {},
   "source": [
    "De estas palabras no presentes en los textos, usamos el diccionario para revisar cuántas efectivamente existen en el idioma español."
   ]
  },
  {
   "cell_type": "code",
   "execution_count": 407,
   "metadata": {},
   "outputs": [
    {
     "data": {
      "text/plain": [
       "{'piro': 0.0044306018571409434,\n",
       " 'pira': 0.003285250190192714,\n",
       " 'illa': 0.0029321294397435258,\n",
       " 'podo': 0.002487132099986853,\n",
       " 'coso': 0.002378363531209926,\n",
       " 'pora': 0.002077845964876698,\n",
       " 'bren': 0.0020620024134272133,\n",
       " 'tuda': 0.001147969238713957,\n",
       " 'coda': 0.0010409185578663337,\n",
       " 'hoce': 0.0010103613896333447,\n",
       " 'lada': 0.0009069911350667396,\n",
       " 'rijo': 0.000858025937784679,\n",
       " 'nodo': 0.0008407507650822489,\n",
       " 'posa': 0.0007837171848738025,\n",
       " 'domo': 0.0007834353067455176,\n",
       " 'nomo': 0.00071205601888141,\n",
       " 'haza': 0.000620505788070136,\n",
       " 'ecto': 0.0004949702859342413,\n",
       " 'cado': 0.0004670159063222114,\n",
       " 'somo': 0.00045264747605127466,\n",
       " 'haba': 0.00043920804801463883,\n",
       " 'molo': 0.0004182662124783505,\n",
       " 'haca': 0.0003675647274559988,\n",
       " 'ludo': 0.00035325387017187974,\n",
       " 'cida': 0.00034569107571678556,\n",
       " 'sebe': 0.0003097312568332796,\n",
       " 'sida': 0.0002971459051897009,\n",
       " 'peer': 0.00027917441290199437,\n",
       " 'meso': 0.0002706443610729625,\n",
       " 'sapa': 0.0002699559800132236,\n",
       " 'moto': 0.0002692272050334762,\n",
       " 'piño': 0.0002612882505693658,\n",
       " 'doca': 0.00025700149993047026,\n",
       " 'treo': 0.00025626728150748526}"
      ]
     },
     "execution_count": 407,
     "metadata": {},
     "output_type": "execute_result"
    }
   ],
   "source": [
    "palabras_predichas = palabrascoinciden (palabras_creadas, total_diccionario)\n",
    "palabras_predichas"
   ]
  },
  {
   "cell_type": "code",
   "execution_count": 395,
   "metadata": {},
   "outputs": [
    {
     "data": {
      "text/plain": [
       "34"
      ]
     },
     "execution_count": 395,
     "metadata": {},
     "output_type": "execute_result"
    }
   ],
   "source": [
    "len(list(palabras_predichas.keys()))"
   ]
  },
  {
   "cell_type": "markdown",
   "metadata": {},
   "source": [
    "Y cuántas fueron inventadas por el modelo de correlaciones:"
   ]
  },
  {
   "cell_type": "code",
   "execution_count": 408,
   "metadata": {},
   "outputs": [
    {
     "data": {
      "text/plain": [
       "{'tido': 0.004157956533482435,\n",
       " 'pres': 0.004093487628698409,\n",
       " 'aste': 0.003943047979757256,\n",
       " 'tada': 0.003693454482213459,\n",
       " 'bijo': 0.003539165014676019,\n",
       " 'vada': 0.0033723532012524694,\n",
       " 'sodo': 0.003342231036462727,\n",
       " 'dajo': 0.0032044417562175076,\n",
       " 'tues': 0.003143313308677219,\n",
       " 'tudo': 0.0027477222703311903,\n",
       " 'uños': 0.002684739288902025,\n",
       " 'noda': 0.00250242078514939,\n",
       " 'cemo': 0.0023739764698520187,\n",
       " 'dabe': 0.0021474720495081286,\n",
       " 'tado': 0.0020787787269638223,\n",
       " 'dija': 0.0019010249993636269,\n",
       " 'camo': 0.0017920683335659008,\n",
       " 'voda': 0.0017793485085216133,\n",
       " 'onos': 0.0015012356520499462,\n",
       " 'ejos': 0.0014591933814691231}"
      ]
     },
     "execution_count": 408,
     "metadata": {},
     "output_type": "execute_result"
    }
   ],
   "source": [
    "palabras_inventadas = palabrasnocoinciden (palabras_creadas, total_diccionario)\n",
    "dict(sorted(palabras_inventadas.items(), key=operator.itemgetter(1), reverse=True)[0:20])"
   ]
  },
  {
   "cell_type": "code",
   "execution_count": 409,
   "metadata": {},
   "outputs": [
    {
     "data": {
      "text/plain": [
       "212"
      ]
     },
     "execution_count": 409,
     "metadata": {},
     "output_type": "execute_result"
    }
   ],
   "source": [
    "len(list(palabras_inventadas.keys()))"
   ]
  }
 ],
 "metadata": {
  "kernelspec": {
   "display_name": "Python 3 (ipykernel)",
   "language": "python",
   "name": "python3"
  },
  "language_info": {
   "codemirror_mode": {
    "name": "ipython",
    "version": 3
   },
   "file_extension": ".py",
   "mimetype": "text/x-python",
   "name": "python",
   "nbconvert_exporter": "python",
   "pygments_lexer": "ipython3",
   "version": "3.8.8"
  }
 },
 "nbformat": 4,
 "nbformat_minor": 4
}
